{
 "cells": [
  {
   "cell_type": "markdown",
   "metadata": {},
   "source": [
    "# 作業\n",
    "\n",
    "#使用 [Lena](http://optipng.sourceforge.net/pngtech/img/lena.png)\n",
    "\n",
    "#- 改變圖片的 color space (`HLS`, `LAB`) 並呈現\n",
    "\n",
    "\n",
    "        "
   ]
  },
  {
   "cell_type": "code",
   "execution_count": null,
   "metadata": {},
   "outputs": [],
   "source": [
    "import cv2\n",
    "img_path = 'data/lena.png'\n",
    "\n",
    "img = cv2.imread(img_path, cv2.IMREAD_COLOR)\n",
    "imghsv = cv2.cvtColor(img,cv2.COLOR_BGR2HSV)\n",
    "imglab = cv2.cvtColor(img,cv2.COLOR_BGR2LAB)\n",
    "\n",
    "while True: \n",
    "    cv2.imshow('bgr',img)\n",
    "    cv2.imshow('hsv',imghsv)\n",
    "    cv2.imshow('lab',imglab)\n",
    "    \n",
    "    key = cv2.waitKey(0)\n",
    "    if key==27:\n",
    "        cvw.destroyAllWindows()\n",
    "        break"
   ]
  },
  {
   "cell_type": "code",
   "execution_count": null,
   "metadata": {},
   "outputs": [],
   "source": []
  },
  {
   "cell_type": "code",
   "execution_count": null,
   "metadata": {},
   "outputs": [],
   "source": []
  }
 ],
 "metadata": {
  "kernelspec": {
   "display_name": "Python 3",
   "language": "python",
   "name": "python3"
  },
  "language_info": {
   "codemirror_mode": {
    "name": "ipython",
    "version": 3
   },
   "file_extension": ".py",
   "mimetype": "text/x-python",
   "name": "python",
   "nbconvert_exporter": "python",
   "pygments_lexer": "ipython3",
   "version": "3.8.5"
  }
 },
 "nbformat": 4,
 "nbformat_minor": 2
}
